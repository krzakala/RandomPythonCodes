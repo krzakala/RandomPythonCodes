{
 "cells": [
  {
   "cell_type": "markdown",
   "metadata": {},
   "source": [
    "## MAP-AMP FOR SPIKED-TENSOR-MODELS\n",
    "\n",
    "This is an implementation of the AMP algorithm for the mixed spiked tensor model (2+3), as written in the MAP-AMP paper (to appear) written in pytorch. While it runs on CPU, porting it on GPU is trivial.\n",
    "\n",
    "Here is the algorithm, written with a Spherical prior"
   ]
  },
  {
   "cell_type": "code",
   "execution_count": 29,
   "metadata": {},
   "outputs": [],
   "source": [
    "import torch\n",
    "from math import sqrt\n",
    "\n",
    "# Priors\n",
    "def prior_l2(B):\n",
    "    \"\"\"l2 norm prior\"\"\"\n",
    "    N, _ = B.shape\n",
    "    return B /torch.sqrt(torch.mean(B*B)), 1 /torch.sqrt(torch.mean(B*B))\n",
    "\n",
    "\n",
    "# AMP Solver\n",
    "def amp(Y, T, Delta2, Delta3,\n",
    "        prior=prior_l2, true_coef=None,\n",
    "        max_iter=250, tol=1e-13, verbose=1):\n",
    "    \"\"\"Iterate VAMP equations\"\"\"\n",
    "\n",
    "    N, _ = Y.shape\n",
    "\n",
    "    # Initialize variables\n",
    "    B2 = torch.zeros(N, 1)\n",
    "    B3 = torch.zeros(N, 1)\n",
    "    a = torch.randn(N, 1)\n",
    "    a_old = torch.zeros(N, 1)\n",
    "    c = 1.\n",
    "    S2 = sqrt(2)\n",
    "    SN = sqrt(N)\n",
    "    K = S2 / (Delta3 * N)\n",
    "    if verbose > 0:\n",
    "        print(\"time ; convergence mse, Matrix-mmse \")\n",
    "    for t in range(max_iter):\n",
    "        # Messages/estimates on x from likelihood\n",
    "        B2 = (1. / (SN * Delta2)) * Y @ a - (c / Delta2) * a_old\n",
    "        B3 = (K * torch.transpose(a, 0, 1)@T@a).view(N, -1)\n",
    "        B3 = B3 - (2 / (Delta3) ) * c * (torch.mean(a * a_old)) * a_old\n",
    "\n",
    "        a_old = torch.clone(a)\n",
    "        a, c = prior_l2(B2 + B3)\n",
    "        a = 0.5 * a + 0.5 * a_old\n",
    "\n",
    "        # Compute metrics\n",
    "        conv = torch.mean((a - a_old) ** 2)\n",
    "        mse = torch.mean((a - true_coef) ** 2) if true_coef is not None else 0.\n",
    "        Mmse = torch.mean((a@torch.transpose(a, 0, 1) - (true_coef@torch.transpose(true_coef, 0, 1)))**2) if true_coef is not None else 0.\n",
    "        if verbose > 0:\n",
    "            print(\"t = %d; conv = %g, mse = %g, Mmse = %g\" % (t, conv, mse, Mmse))\n",
    "        if conv < tol:\n",
    "            break\n",
    "    return a"
   ]
  },
  {
   "cell_type": "markdown",
   "metadata": {},
   "source": [
    "Now, this is a short demo on how the algorithm works:"
   ]
  },
  {
   "cell_type": "code",
   "execution_count": 31,
   "metadata": {},
   "outputs": [
    {
     "name": "stdout",
     "output_type": "stream",
     "text": [
      "time ; convergence mse, Matrix-mmse \n",
      "t = 0; conv = 0.51689, mse = 1.43884, Mmse = 1.1394\n",
      "t = 1; conv = 0.140289, mse = 1.50407, Mmse = 1.24709\n",
      "t = 2; conv = 0.0525358, mse = 1.61148, Mmse = 1.43208\n",
      "t = 3; conv = 0.018514, mse = 1.68808, Mmse = 1.59433\n",
      "t = 4; conv = 0.00839067, mse = 1.72551, Mmse = 1.70021\n",
      "t = 5; conv = 0.00585409, mse = 1.72953, Mmse = 1.7581\n",
      "t = 6; conv = 0.00522691, mse = 1.70173, Mmse = 1.78325\n",
      "t = 7; conv = 0.00607969, mse = 1.62768, Mmse = 1.77889\n",
      "t = 8; conv = 0.0128082, mse = 1.44884, Mmse = 1.70882\n",
      "t = 9; conv = 0.0589981, mse = 0.996467, Mmse = 1.35229\n",
      "t = 10; conv = 0.153265, mse = 0.383514, Mmse = 0.599224\n",
      "t = 11; conv = 0.0854827, mse = 0.109552, Mmse = 0.190826\n",
      "t = 12; conv = 0.0274108, mse = 0.0288594, Mmse = 0.0526954\n",
      "t = 13; conv = 0.00771606, mse = 0.00804852, Mmse = 0.0149643\n",
      "t = 14; conv = 0.00208212, mse = 0.00325775, Mmse = 0.00691621\n",
      "t = 15; conv = 0.000553762, mse = 0.00238984, Mmse = 0.0061315\n",
      "t = 16; conv = 0.000146759, mse = 0.00236429, Mmse = 0.00664607\n",
      "t = 17; conv = 3.8945e-05, mse = 0.00246052, Mmse = 0.00715009\n",
      "t = 18; conv = 1.03711e-05, mse = 0.00253796, Mmse = 0.00746875\n",
      "t = 19; conv = 2.77439e-06, mse = 0.00258471, Mmse = 0.00764623\n",
      "t = 20; conv = 7.45829e-07, mse = 0.00261034, Mmse = 0.00774003\n",
      "t = 21; conv = 2.01487e-07, mse = 0.00262383, Mmse = 0.00778839\n",
      "t = 22; conv = 5.47095e-08, mse = 0.00263079, Mmse = 0.00781304\n",
      "t = 23; conv = 1.49213e-08, mse = 0.00263435, Mmse = 0.00782552\n",
      "t = 24; conv = 4.08974e-09, mse = 0.00263616, Mmse = 0.00783182\n",
      "t = 25; conv = 1.12542e-09, mse = 0.00263707, Mmse = 0.00783499\n",
      "t = 26; conv = 3.11366e-10, mse = 0.00263754, Mmse = 0.0078366\n",
      "t = 27; conv = 8.62321e-11, mse = 0.00263777, Mmse = 0.00783741\n",
      "t = 28; conv = 2.40925e-11, mse = 0.00263789, Mmse = 0.00783782\n",
      "t = 29; conv = 6.68447e-12, mse = 0.00263795, Mmse = 0.00783801\n",
      "t = 30; conv = 1.88502e-12, mse = 0.00263798, Mmse = 0.00783812\n",
      "t = 31; conv = 5.3668e-13, mse = 0.002638, Mmse = 0.00783818\n",
      "t = 32; conv = 1.46155e-13, mse = 0.00263801, Mmse = 0.0078382\n",
      "t = 33; conv = 4.47349e-14, mse = 0.00263801, Mmse = 0.00783821\n"
     ]
    }
   ],
   "source": [
    "import torch\n",
    "# We keep CPU by default, if you want GPU uncomment the next line\n",
    "# torch.set_default_tensor_type('torch.cuda.FloatTensor')#GPU by default\n",
    "from math import sqrt\n",
    "import time\n",
    "\n",
    "N = 300\n",
    "DELTA2 = 1\n",
    "DELTA3 = 0.001\n",
    "\n",
    "X0 = torch.randn(N, 1)\n",
    "Y = X0@torch.transpose(X0, 0, 1)\n",
    "T = Y.view(N, N, 1)@torch.transpose(X0, 0, 1)\n",
    "\n",
    "M_N = torch.randn(N, N)\n",
    "Matrix_noise = (M_N + torch.transpose(M_N, 0, 1))/sqrt(2)\n",
    "Y = Y / sqrt(N) + Matrix_noise * sqrt(DELTA2)\n",
    "\n",
    "T_N = torch.randn(N, N, N)\n",
    "R1 = torch.transpose(T_N,0,1)\n",
    "R2 = torch.transpose(T_N,0,2)\n",
    "R3 = torch.transpose(T_N,1,2)\n",
    "R4 = torch.transpose(R1,1,2)\n",
    "R5 = torch.transpose(R2,1,2)\n",
    "Tensor_noise = (T_N + R1 + R2 + R3 + R4 +R5)/sqrt(6)\n",
    "T = (sqrt(2) / N) * T + Tensor_noise * sqrt(DELTA3)\n",
    "\n",
    "t = time.time()\n",
    "Xhat = amp(Y, T, DELTA2, DELTA3,\n",
    "           prior=prior_l2,\n",
    "           true_coef=X0, max_iter=250)\n",
    "elapsed = time.time() - t"
   ]
  },
  {
   "cell_type": "code",
   "execution_count": null,
   "metadata": {},
   "outputs": [],
   "source": []
  }
 ],
 "metadata": {
  "kernelspec": {
   "display_name": "Python 3",
   "language": "python",
   "name": "python3"
  },
  "language_info": {
   "codemirror_mode": {
    "name": "ipython",
    "version": 3
   },
   "file_extension": ".py",
   "mimetype": "text/x-python",
   "name": "python",
   "nbconvert_exporter": "python",
   "pygments_lexer": "ipython3",
   "version": "3.7.1"
  }
 },
 "nbformat": 4,
 "nbformat_minor": 2
}
