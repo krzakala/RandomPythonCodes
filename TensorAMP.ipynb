{
 "cells": [
  {
   "cell_type": "markdown",
   "metadata": {},
   "source": [
    "## AMP FOR SPIKED-TENSOR-MODELS\n",
    "\n",
    "This is an implementation of the AMP algorithm for the mixed spiked tensor model (2+3), as written in https://arxiv.org/pdf/1812.09066.pdf written in pytorch. While it runs on CPU, porting it on GPU is trivial.\n",
    "\n",
    "Here is the algorithm, written with a Gaussian prior"
   ]
  },
  {
   "cell_type": "code",
   "execution_count": 1,
   "metadata": {},
   "outputs": [],
   "source": [
    "import torch\n",
    "from math import sqrt\n",
    "\n",
    "# Priors\n",
    "def prior_gb(A, B, prmts):\n",
    "    \"\"\"Compute f_a and f_c for Gauss-Bernoulli prior\"\"\"\n",
    "\n",
    "    rho, mu, sig = prmts\n",
    "\n",
    "    m = (B * sig + mu) / (1. + A * sig)\n",
    "    v = sig / (1 + A * sig)\n",
    "    keep = (rho + (1 - rho) * torch.sqrt(1. + A * sig) *\n",
    "            torch.exp(-.5 * m ** 2 / v + .5 * mu ** 2 / sig))\n",
    "    p_s = rho / keep\n",
    "\n",
    "    a = p_s * m\n",
    "    c = p_s * v + p_s * (1. - p_s) * m ** 2\n",
    "    return a, torch.mean(c)\n",
    "\n",
    "\n",
    "# AMP Solver\n",
    "def amp(Y, T, Delta2, Delta3,\n",
    "        prior=prior_gb, prior_prmts=None, true_coef=None,\n",
    "        max_iter=250, tol=1e-13, verbose=1):\n",
    "    \"\"\"Iterate VAMP equations\"\"\"\n",
    "\n",
    "    N, _ = Y.shape\n",
    "\n",
    "    # Initialize variables\n",
    "    B2 = torch.zeros(N, 1)\n",
    "    A2 = 0.\n",
    "    B3 = torch.zeros(N, 1)\n",
    "    A3 = 0.\n",
    "    a = torch.randn(N, 1)\n",
    "    a_old = torch.zeros(N, 1)\n",
    "    c = 1.\n",
    "    S2 = sqrt(2)\n",
    "    SN = sqrt(N)\n",
    "    K = S2 / (Delta3 * N)\n",
    "    if verbose > 0:\n",
    "        print(\"time ; convergence mse, Matrix-mmse \")\n",
    "    for t in range(max_iter):\n",
    "        # Messages/estimates on x from likelihood\n",
    "        B2 = (1. / (SN * Delta2)) * Y @ a - (c / Delta2) * a_old\n",
    "        A2 = (1. / Delta2) * torch.mean(a * a)\n",
    "        B3 = (K * torch.transpose(a, 0, 1)@T@a).view(N, -1)\n",
    "        B3 = B3 - (2 / Delta3) * c * (torch.mean(a * a)) * a_old\n",
    "        A3 = (1. / Delta3) * torch.mean(a * a)**2\n",
    "\n",
    "        a_old = torch.clone(a)\n",
    "        a, cc = prior(A2 + A3, B2 + B3, prior_prmts)\n",
    "        c = torch.mean(cc)\n",
    "        a = 0.5 * a + 0.5 * a_old\n",
    "\n",
    "        # Compute metrics\n",
    "        conv = torch.mean((a - a_old) ** 2)\n",
    "        mse = torch.mean((a - true_coef) ** 2) if true_coef is not None else 0.\n",
    "        Mmse = torch.mean((a@torch.transpose(a, 0, 1) - (true_coef@torch.transpose(true_coef, 0, 1)))**2) if true_coef is not None else 0.\n",
    "        if verbose > 0:\n",
    "            print(\"t = %d; conv = %g, mse = %g, Mmse = %g\" % (t, conv, mse, Mmse))\n",
    "        if conv < tol:\n",
    "            break\n",
    "    return a"
   ]
  },
  {
   "cell_type": "markdown",
   "metadata": {},
   "source": [
    "Now, this is a short demo on how the algorithm works:"
   ]
  },
  {
   "cell_type": "code",
   "execution_count": 2,
   "metadata": {},
   "outputs": [
    {
     "name": "stdout",
     "output_type": "stream",
     "text": [
      "time ; convergence mse, Matrix-mmse \n",
      "t = 0; conv = 0.226766, mse = 1.104, Mmse = 0.91156\n",
      "t = 1; conv = 0.0729921, mse = 0.848262, Mmse = 0.85193\n",
      "t = 2; conv = 0.228364, mse = 0.266017, Mmse = 0.494889\n",
      "t = 3; conv = 0.311169, mse = 0.023434, Mmse = 0.0577346\n",
      "t = 4; conv = 0.00832498, mse = 0.0104917, Mmse = 0.0193538\n",
      "t = 5; conv = 0.000734208, mse = 0.00923649, Mmse = 0.0170892\n",
      "t = 6; conv = 0.000189386, mse = 0.00919293, Mmse = 0.017017\n",
      "t = 7; conv = 4.99531e-05, mse = 0.00933875, Mmse = 0.0172903\n",
      "t = 8; conv = 1.33684e-05, mse = 0.00946125, Mmse = 0.0175169\n",
      "t = 9; conv = 3.62473e-06, mse = 0.00953846, Mmse = 0.0176592\n",
      "t = 10; conv = 9.92879e-07, mse = 0.00958249, Mmse = 0.0177403\n",
      "t = 11; conv = 2.74189e-07, mse = 0.00960644, Mmse = 0.0177843\n",
      "t = 12; conv = 7.62091e-08, mse = 0.00961909, Mmse = 0.0178076\n",
      "t = 13; conv = 2.1289e-08, mse = 0.00962566, Mmse = 0.0178196\n",
      "t = 14; conv = 5.97307e-09, mse = 0.00962901, Mmse = 0.0178258\n",
      "t = 15; conv = 1.6811e-09, mse = 0.0096307, Mmse = 0.0178289\n",
      "t = 16; conv = 4.74464e-10, mse = 0.00963154, Mmse = 0.0178304\n",
      "t = 17; conv = 1.34144e-10, mse = 0.00963196, Mmse = 0.0178312\n",
      "t = 18; conv = 3.80062e-11, mse = 0.00963216, Mmse = 0.0178316\n",
      "t = 19; conv = 1.08695e-11, mse = 0.00963225, Mmse = 0.0178317\n",
      "t = 20; conv = 3.0588e-12, mse = 0.0096323, Mmse = 0.0178318\n",
      "t = 21; conv = 8.71082e-13, mse = 0.00963232, Mmse = 0.0178319\n",
      "t = 22; conv = 2.54197e-13, mse = 0.00963233, Mmse = 0.0178319\n",
      "t = 23; conv = 7.2754e-14, mse = 0.00963233, Mmse = 0.0178319\n"
     ]
    }
   ],
   "source": [
    "import torch\n",
    "# We keep CPU by default, if you want GPU uncomment the next line\n",
    "# torch.set_default_tensor_type('torch.cuda.FloatTensor')#GPU by default\n",
    "from math import sqrt\n",
    "import time\n",
    "\n",
    "N = 100\n",
    "DELTA2 = 0.01\n",
    "DELTA3 = 1\n",
    "\n",
    "X0 = torch.randn(N, 1)\n",
    "Y = X0@torch.transpose(X0, 0, 1)\n",
    "T = Y.view(N, N, 1)@torch.transpose(X0, 0, 1)\n",
    "\n",
    "Y = Y / sqrt(N) + torch.randn(N, N) * sqrt(DELTA2)\n",
    "T = (sqrt(2) / N) * T + torch.randn(N, N, N) * sqrt(DELTA3)\n",
    "\n",
    "t = time.time()\n",
    "Xhat = amp(Y, T, DELTA2, DELTA3,\n",
    "           prior=prior_gb, prior_prmts=(1, 0, 1),\n",
    "           true_coef=X0, max_iter=250)\n",
    "elapsed = time.time() - t"
   ]
  },
  {
   "cell_type": "code",
   "execution_count": null,
   "metadata": {},
   "outputs": [],
   "source": []
  }
 ],
 "metadata": {
  "kernelspec": {
   "display_name": "Python 3",
   "language": "python",
   "name": "python3"
  },
  "language_info": {
   "codemirror_mode": {
    "name": "ipython",
    "version": 3
   },
   "file_extension": ".py",
   "mimetype": "text/x-python",
   "name": "python",
   "nbconvert_exporter": "python",
   "pygments_lexer": "ipython3",
   "version": "3.7.1"
  }
 },
 "nbformat": 4,
 "nbformat_minor": 2
}
