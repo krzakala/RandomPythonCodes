{
 "cells": [
  {
   "cell_type": "markdown",
   "metadata": {},
   "source": [
    "## Tensor factorization with MAP AMP with p = 3 \n",
    "\n",
    "This is the MAP version of AMP for a tensor factorization problem with p=3"
   ]
  },
  {
   "cell_type": "code",
   "execution_count": 37,
   "metadata": {},
   "outputs": [],
   "source": [
    "import torch\n",
    "from math import sqrt\n",
    "\n",
    "\n",
    "def prior_l2(B):\n",
    "    \"\"\"l2 norm prior\"\"\"\n",
    "    N, _ = B.shape\n",
    "    return B /torch.sqrt(torch.mean(B*B)), 1 /torch.sqrt(torch.mean(B*B))\n",
    "\n",
    "# Solver\n",
    "def amp(T, DELTA3,\n",
    "        prior=prior_l2, true_coef=None,\n",
    "        max_iter=250, tol=1e-13, verbose=1):\n",
    "    \"\"\"Iterate VAMP equations\"\"\"\n",
    "\n",
    "    N, _, _ = T.shape\n",
    "\n",
    "    # Initialize variables\n",
    "    B3 = torch.zeros(N, 1)\n",
    "    a = torch.randn(N, 1)\n",
    "    a_old = torch.zeros(N, 1)\n",
    "    c = 1.\n",
    "    S2 = sqrt(2)\n",
    "    SN = sqrt(N)\n",
    "    K = S2 / (DELTA3 * N)\n",
    "    if verbose > 0:\n",
    "        print(\"time ; convergence mse, Matrix-mmse \")\n",
    "    for t in range(max_iter):\n",
    "        # Messages/estimates on x from likelihood\n",
    "        B3old = torch.clone(B3) \n",
    "        B3 = (K * torch.transpose(a, 0, 1)@T@a).view(N, -1)\n",
    "        B3 = B3 - 2 / (DELTA3) * c * (torch.mean(a * a_old)) * a_old\n",
    "        a_old = torch.clone(a)\n",
    "        a , c = prior(B3)           \n",
    "        # Compute metrics\n",
    "        conv = torch.mean((a - a_old) ** 2)\n",
    "        overl = torch.abs(torch.mean (a * X0))\n",
    "        mse = torch.mean((a - true_coef) ** 2) if true_coef is not None else 0.\n",
    "        Mmse = torch.mean((a@torch.transpose(a, 0, 1) - (true_coef@torch.transpose(true_coef, 0, 1)))**2) if true_coef is not None else 0.\n",
    "        if verbose > 0:\n",
    "            print(\"t = %d; conv = %g, mse = %g, Mmse = %g\" % (t, conv, mse, Mmse))\n",
    "        if conv < tol:\n",
    "            break\n",
    "    return a"
   ]
  },
  {
   "cell_type": "code",
   "execution_count": 40,
   "metadata": {},
   "outputs": [
    {
     "name": "stdout",
     "output_type": "stream",
     "text": [
      "time ; convergence mse, Matrix-mmse \n",
      "t = 0; conv = 1.81819, mse = 1.6485, Mmse = 2.02794\n",
      "t = 1; conv = 1.513, mse = 0.361101, Mmse = 0.677777\n",
      "t = 2; conv = 0.343269, mse = 0.00251946, Mmse = 0.00660462\n",
      "t = 3; conv = 0.000917501, mse = 0.00156153, Mmse = 0.0046394\n",
      "t = 4; conv = 2.35715e-06, mse = 0.00155284, Mmse = 0.00462158\n",
      "t = 5; conv = 8.23503e-09, mse = 0.00155289, Mmse = 0.0046217\n",
      "t = 6; conv = 3.38215e-11, mse = 0.00155287, Mmse = 0.00462165\n",
      "t = 7; conv = 1.5962e-13, mse = 0.00155288, Mmse = 0.00462166\n",
      "t = 8; conv = 7.1977e-15, mse = 0.00155288, Mmse = 0.00462165\n"
     ]
    }
   ],
   "source": [
    "import torch\n",
    "# We keep CPU by default, if you want GPU uncomment the next line\n",
    "# torch.set_default_tensor_type('torch.cuda.FloatTensor')#GPU by default\n",
    "\n",
    "from math import sqrt\n",
    "import time\n",
    "\n",
    "N = 300\n",
    "DELTA3 = 0.001\n",
    "\n",
    "X0 = torch.randn(N,1)\n",
    "Y = X0@torch.transpose(X0, 0, 1)\n",
    "T = Y.view(N, N, 1)@torch.transpose(X0, 0, 1)\n",
    "\n",
    "R0 = torch.randn(N,N,N)\n",
    "R1 = torch.transpose(R0,0,1)\n",
    "R2 = torch.transpose(R0,0,2)\n",
    "R3 = torch.transpose(R0,1,2)\n",
    "R4 = torch.transpose(R1,1,2)\n",
    "R5 = torch.transpose(R2,1,2)\n",
    "RUMORE = (R0 + R1 + R2 + R3 + R4 +R5)/sqrt(6)\n",
    "\n",
    "T = (sqrt(2) / N) * T + RUMORE * sqrt(DELTA3)\n",
    "\n",
    "t = time.time()\n",
    "Xhat = amp(T, DELTA3,\n",
    "       prior=prior_l2, \n",
    "           true_coef=X0, max_iter=250)\n",
    "elapsed = time.time() - t"
   ]
  },
  {
   "cell_type": "code",
   "execution_count": null,
   "metadata": {},
   "outputs": [],
   "source": []
  }
 ],
 "metadata": {
  "kernelspec": {
   "display_name": "Python 3",
   "language": "python",
   "name": "python3"
  },
  "language_info": {
   "codemirror_mode": {
    "name": "ipython",
    "version": 3
   },
   "file_extension": ".py",
   "mimetype": "text/x-python",
   "name": "python",
   "nbconvert_exporter": "python",
   "pygments_lexer": "ipython3",
   "version": "3.7.1"
  }
 },
 "nbformat": 4,
 "nbformat_minor": 2
}
